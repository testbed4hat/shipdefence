{
 "cells": [
  {
   "cell_type": "code",
   "execution_count": 1,
   "id": "281a6c74-63a8-4cdb-a7bb-67a217ee2c1d",
   "metadata": {},
   "outputs": [],
   "source": [
    "from datetime import date, datetime, time, timedelta, UTC\n",
    "import json\n",
    "import random\n",
    "\n",
    "import requests"
   ]
  },
  {
   "cell_type": "markdown",
   "id": "dc32086d-2fdf-436b-a0ac-8e00b5f40e79",
   "metadata": {},
   "source": [
    "## Game settings"
   ]
  },
  {
   "cell_type": "code",
   "execution_count": 2,
   "id": "939275f4-82bd-4daf-9701-841c1d235a5e",
   "metadata": {},
   "outputs": [],
   "source": [
    "host = \"https://serge-inet.herokuapp.com\""
   ]
  },
  {
   "cell_type": "code",
   "execution_count": 3,
   "id": "b218ed9b-39ac-4bea-919f-9de6b7c5c3d7",
   "metadata": {},
   "outputs": [],
   "source": [
    "wargame = \"wargame-lxdbl8di\"\n",
    "access = \"ai-assistant\""
   ]
  },
  {
   "cell_type": "code",
   "execution_count": 4,
   "id": "0a7e521c-74e7-4af7-ab83-5e06948997a0",
   "metadata": {},
   "outputs": [],
   "source": [
    "targeting_channel_A = \"lw50a2yz\"\n",
    "targeting_channel_B = \"channel-lx32ng4o\"  # TODO: change them into something friendlier"
   ]
  },
  {
   "cell_type": "code",
   "execution_count": 5,
   "id": "a381160d-e196-4e2b-9852-cd9db9c05afc",
   "metadata": {},
   "outputs": [],
   "source": [
    "api_endpoint = f\"{host}/{wargame}\""
   ]
  },
  {
   "cell_type": "code",
   "execution_count": 18,
   "id": "8a4ad3d1-9ed5-4f49-9e42-f39cd8f8ab4b",
   "metadata": {},
   "outputs": [
    {
     "name": "stdout",
     "output_type": "stream",
     "text": [
      "Game Control: https://serge-inet.herokuapp.com/?wargame=wargame-lxdbl8di&access=umpire\n",
      "AI Assistant: https://serge-inet.herokuapp.com/?wargame=wargame-lxdbl8di&access=ai-assistant\n",
      "CO Alpha: https://serge-inet.herokuapp.com/?wargame=wargame-lxdbl8di&access=co-alpha\n",
      "CO Bravo: https://serge-inet.herokuapp.com/?wargame=wargame-lxdbl8di&access=co-bravo\n"
     ]
    }
   ],
   "source": [
    "game_url = f\"{host}/?wargame={wargame}&access=\"\n",
    "print(\"Game Control:\", game_url + \"umpire\")\n",
    "print(\"AI Assistant:\", game_url + \"ai-assistant\")\n",
    "print(\"CO Alpha:\", game_url + \"co-alpha\")\n",
    "print(\"CO Bravo:\", game_url + \"co-bravo\")"
   ]
  },
  {
   "cell_type": "markdown",
   "id": "83d32cb2-a538-48a6-b60b-13a1756133fe",
   "metadata": {
    "jp-MarkdownHeadingCollapsed": true
   },
   "source": [
    "## Message Templates"
   ]
  },
  {
   "cell_type": "code",
   "execution_count": 7,
   "id": "0c3a3305-555f-44e7-823d-b7ea83ee4bd3",
   "metadata": {},
   "outputs": [],
   "source": [
    "# Placing the two ship on the map\n",
    "msg_mapping_ships = {\n",
    "  \"_id\": \"2024-06-06T13:37:33.436Z\",\n",
    "  \"details\": {\n",
    "    \"channel\": \"core-mapping\",\n",
    "    \"from\": {\n",
    "      \"force\": \"f-taskforce\",\n",
    "      \"forceColor\": \"#00f\",\n",
    "      \"iconURL\": \"http://localhost:8080/default_img/forceDefault.png\",\n",
    "      \"roleId\": \"ai-assistant\",\n",
    "      \"roleName\": \"AI Assistant\"\n",
    "    },\n",
    "    \"messageType\": \"MappingMessage\",\n",
    "    \"timestamp\": \"2024-06-03T13:37:33\",\n",
    "    \"turnNumber\": 0\n",
    "  },\n",
    "  \"featureCollection\": {\n",
    "    \"features\": [\n",
    "      {\n",
    "        \"geometry\": {\n",
    "          \"coordinates\": [\n",
    "            43.21484211402448,\n",
    "            12.819648833091783\n",
    "          ],\n",
    "          \"type\": \"Point\"\n",
    "        },\n",
    "        \"properties\": {\n",
    "          \"_type\": \"MilSymRenderer\",\n",
    "          \"category\": \"Military\",\n",
    "          \"force\": \"f-taskforce\",\n",
    "          \"health\": 100,\n",
    "          \"id\": \"ship-alpha\",\n",
    "          \"label\": \"Alpha\",\n",
    "          \"phase\": \"planning\",\n",
    "          \"sidc\": \"30033020001202031500\",\n",
    "          \"size\": \"S\",\n",
    "          \"turn\": 0\n",
    "        },\n",
    "        \"type\": \"Feature\"\n",
    "      },\n",
    "      {\n",
    "        \"geometry\": {\n",
    "          \"coordinates\": [\n",
    "            43.21343663644983,\n",
    "            12.818947918209624\n",
    "          ],\n",
    "          \"type\": \"Point\"\n",
    "        },\n",
    "        \"properties\": {\n",
    "          \"_type\": \"MilSymRenderer\",\n",
    "          \"category\": \"Military\",\n",
    "          \"force\": \"f-taskforce\",\n",
    "          \"health\": 100,\n",
    "          \"id\": \"ship-bravo\",\n",
    "          \"label\": \"Bravo\",\n",
    "          \"phase\": \"planning\",\n",
    "          \"sidc\": \"30033020001202031500\",\n",
    "          \"size\": \"S\",\n",
    "          \"turn\": 0\n",
    "        },\n",
    "        \"type\": \"Feature\"\n",
    "      },\n",
    "      {\n",
    "        \"type\": \"Feature\",\n",
    "        \"properties\": {\n",
    "          \"_type\": \"CoreRenderer\",\n",
    "          \"color\": \"#777\",\n",
    "          \"force\": \"f-taskforce\",\n",
    "          \"id\": \"feature-range-100\",\n",
    "          \"label\": \"100km range\",\n",
    "          \"phase\": \"planning\",\n",
    "          \"turn\": 0\n",
    "        },\n",
    "        \"geometry\": {\n",
    "          \"type\": \"Polygon\",\n",
    "          \"coordinates\": [\n",
    "            [\n",
    "              [\n",
    "                43.21357045974609,\n",
    "                13.718655567489348\n",
    "              ],\n",
    "              [\n",
    "                43.12280602539128,\n",
    "                13.714307694684527\n",
    "              ],\n",
    "              [\n",
    "                43.03292547714801,\n",
    "                13.701306428929607\n",
    "              ],\n",
    "              [\n",
    "                42.944803788221904,\n",
    "                13.679778400138437\n",
    "              ],\n",
    "              [\n",
    "                42.85929820943637,\n",
    "                13.64993323633563\n",
    "              ],\n",
    "              [\n",
    "                42.77723966474626,\n",
    "                13.612061448488438\n",
    "              ],\n",
    "              [\n",
    "                42.69942444963254,\n",
    "                13.566531504081734\n",
    "              ],\n",
    "              [\n",
    "                42.626606324935565,\n",
    "                13.513786123447463\n",
    "              ],\n",
    "              [\n",
    "                42.55948909187895,\n",
    "                13.454337841473041\n",
    "              ],\n",
    "              [\n",
    "                42.498719725994754,\n",
    "                13.388763885159975\n",
    "              ],\n",
    "              [\n",
    "                42.44488213865247,\n",
    "                13.31770042447816\n",
    "              ],\n",
    "              [\n",
    "                42.39849162520135,\n",
    "                13.241836259987004\n",
    "              ],\n",
    "              [\n",
    "                42.35999004864128,\n",
    "                13.161906015729029\n",
    "              ],\n",
    "              [\n",
    "                42.32974179750961,\n",
    "                13.078682909930535\n",
    "              ],\n",
    "              [\n",
    "                42.308030546551514,\n",
    "                12.992971179081723\n",
    "              ],\n",
    "              [\n",
    "                42.29505683893466,\n",
    "                12.905598233050958\n",
    "              ],\n",
    "              [\n",
    "                42.290936499437514,\n",
    "                12.817406620068708\n",
    "              ],\n",
    "              [\n",
    "                42.29569987930217,\n",
    "                12.729245880761486\n",
    "              ],\n",
    "              [\n",
    "                42.30929192536949,\n",
    "                12.641964369996716\n",
    "              ],\n",
    "              [\n",
    "                42.331573058738805,\n",
    "                12.556401124189332\n",
    "              ],\n",
    "              [\n",
    "                42.36232084151288,\n",
    "                12.473377849989872\n",
    "              ],\n",
    "              [\n",
    "                42.40123240416965,\n",
    "                12.393691107986529\n",
    "              ],\n",
    "              [\n",
    "                42.4479276006958,\n",
    "                12.318104762265127\n",
    "              ],\n",
    "              [\n",
    "                42.501952853762354,\n",
    "                12.24734276342863\n",
    "              ],\n",
    "              [\n",
    "                42.5627856478542,\n",
    "                12.182082329018405\n",
    "              ],\n",
    "              [\n",
    "                42.629839624325896,\n",
    "                12.122947581233417\n",
    "              ],\n",
    "              [\n",
    "                42.70247022879333,\n",
    "                12.070503697433722\n",
    "              ],\n",
    "              [\n",
    "                42.779980858048496,\n",
    "                12.0252516241619\n",
    "              ],\n",
    "              [\n",
    "                42.861629450779795,\n",
    "                11.987623400338219\n",
    "              ],\n",
    "              [\n",
    "                42.946635463785036,\n",
    "                11.957978129903324\n",
    "              ],\n",
    "              [\n",
    "                43.03418717308346,\n",
    "                11.936598638518708\n",
    "              ],\n",
    "              [\n",
    "                43.12344923738153,\n",
    "                11.923688843019043\n",
    "              ],\n",
    "              [\n",
    "                43.21357045974609,\n",
    "                11.919371856175845\n",
    "              ],\n",
    "              [\n",
    "                43.30369168211064,\n",
    "                11.923688843019043\n",
    "              ],\n",
    "              [\n",
    "                43.392953746408715,\n",
    "                11.936598638518708\n",
    "              ],\n",
    "              [\n",
    "                43.48050545570713,\n",
    "                11.957978129903324\n",
    "              ],\n",
    "              [\n",
    "                43.56551146871237,\n",
    "                11.987623400338219\n",
    "              ],\n",
    "              [\n",
    "                43.64716006144367,\n",
    "                12.0252516241619\n",
    "              ],\n",
    "              [\n",
    "                43.724670690698844,\n",
    "                12.070503697433722\n",
    "              ],\n",
    "              [\n",
    "                43.79730129516628,\n",
    "                12.122947581233417\n",
    "              ],\n",
    "              [\n",
    "                43.86435527163797,\n",
    "                12.182082329018405\n",
    "              ],\n",
    "              [\n",
    "                43.92518806572982,\n",
    "                12.24734276342863\n",
    "              ],\n",
    "              [\n",
    "                43.97921331879637,\n",
    "                12.318104762265127\n",
    "              ],\n",
    "              [\n",
    "                44.02590851532252,\n",
    "                12.393691107986529\n",
    "              ],\n",
    "              [\n",
    "                44.064820077979284,\n",
    "                12.473377849989872\n",
    "              ],\n",
    "              [\n",
    "                44.09556786075336,\n",
    "                12.556401124189332\n",
    "              ],\n",
    "              [\n",
    "                44.117848994122674,\n",
    "                12.641964369996716\n",
    "              ],\n",
    "              [\n",
    "                44.13144104019,\n",
    "                12.729245880761486\n",
    "              ],\n",
    "              [\n",
    "                44.13620442005466,\n",
    "                12.817406620068708\n",
    "              ],\n",
    "              [\n",
    "                44.13208408055752,\n",
    "                12.905598233050958\n",
    "              ],\n",
    "              [\n",
    "                44.11911037294065,\n",
    "                12.992971179081723\n",
    "              ],\n",
    "              [\n",
    "                44.097399121982555,\n",
    "                13.078682909930535\n",
    "              ],\n",
    "              [\n",
    "                44.06715087085089,\n",
    "                13.161906015729029\n",
    "              ],\n",
    "              [\n",
    "                44.02864929429082,\n",
    "                13.241836259987004\n",
    "              ],\n",
    "              [\n",
    "                43.9822587808397,\n",
    "                13.31770042447816\n",
    "              ],\n",
    "              [\n",
    "                43.928421193497414,\n",
    "                13.388763885159975\n",
    "              ],\n",
    "              [\n",
    "                43.86765182761322,\n",
    "                13.454337841473041\n",
    "              ],\n",
    "              [\n",
    "                43.80053459455661,\n",
    "                13.513786123447463\n",
    "              ],\n",
    "              [\n",
    "                43.72771646985963,\n",
    "                13.566531504081734\n",
    "              ],\n",
    "              [\n",
    "                43.649901254745906,\n",
    "                13.612061448488438\n",
    "              ],\n",
    "              [\n",
    "                43.5678427100558,\n",
    "                13.64993323633563\n",
    "              ],\n",
    "              [\n",
    "                43.48233713127027,\n",
    "                13.679778400138437\n",
    "              ],\n",
    "              [\n",
    "                43.394215442344155,\n",
    "                13.701306428929607\n",
    "              ],\n",
    "              [\n",
    "                43.3043348941009,\n",
    "                13.714307694684527\n",
    "              ],\n",
    "              [\n",
    "                43.21357045974609,\n",
    "                13.718655567489348\n",
    "              ]\n",
    "            ]\n",
    "          ]\n",
    "        }\n",
    "      }\n",
    "    ],\n",
    "    \"type\": \"FeatureCollection\"\n",
    "  },\n",
    "  \"messageType\": \"MappingMessage\"\n",
    "}"
   ]
  },
  {
   "cell_type": "code",
   "execution_count": 8,
   "id": "4d1c6994-e277-4b2f-9c32-ceb6f28fb709",
   "metadata": {},
   "outputs": [],
   "source": [
    "# Chat message\n",
    "msg_chat = {\n",
    "  \"_id\": \"2024-06-12T21:59:21.561Z\",\n",
    "  \"messageType\": \"CustomMessage\",\n",
    "  \"templateId\": \"chat\",\n",
    "  \"details\": {\n",
    "    \"channel\": \"lx27cacw\",\n",
    "    \"from\": {\n",
    "      \"force\": \"Taskforce\",\n",
    "      \"forceColor\": \"#3dd0ff\",\n",
    "      \"roleId\": \"ai-assistant\",\n",
    "      \"roleName\": \"AI Assistant\",\n",
    "      \"iconURL\": \"http://localhost:8080/default_img/forceDefault.png\"\n",
    "    },\n",
    "    \"timestamp\": \"2024-06-12T21:59:21.561Z\",\n",
    "    \"privateMessage\": \"\",\n",
    "    \"turnNumber\": 0\n",
    "  },\n",
    "  \"message\": {\n",
    "    \"content\": \"<Text content>\"\n",
    "  }\n",
    "}"
   ]
  },
  {
   "cell_type": "code",
   "execution_count": 9,
   "id": "8b202a91-1e70-4b38-b5c9-f0bbc7c9b94b",
   "metadata": {},
   "outputs": [],
   "source": [
    "# WA message\n",
    "msg_wa = {\n",
    "  \"_id\": \"2024-06-12T22:02:39.113Z\",\n",
    "  \"messageType\": \"CustomMessage\",\n",
    "  \"templateId\": \"WA Message\",\n",
    "  \"details\": {\n",
    "    \"channel\": \"lw50a2yz\",\n",
    "    \"from\": {\n",
    "      \"force\": \"Taskforce\",\n",
    "      \"forceId\": \"f-taskforce\",\n",
    "      \"forceColor\": \"#3dd0ff\",\n",
    "      \"roleName\": \"AI Assistant\",\n",
    "      \"roleId\": {\n",
    "        \"forceId\": \"f-taskforce\",\n",
    "        \"forceName\": \"Taskforce\",\n",
    "        \"roleId\": \"ai-assistant\",\n",
    "        \"roleName\": \"AI Assistant\"\n",
    "      },\n",
    "      \"iconURL\": \"http://localhost:8080/default_img/forceDefault.png\"\n",
    "    },\n",
    "    \"timestamp\": \"2024-06-12T22:02:39.113Z\",\n",
    "    \"turnNumber\": 0,\n",
    "    \"collaboration\": {\n",
    "      \"status\": \"Pending review\",\n",
    "      \"lastUpdated\": \"2024-06-12T22:02:39.113Z\"\n",
    "    }\n",
    "  },\n",
    "  \"message\": {\n",
    "    \"Threat\": {\n",
    "      \"Detected type\": \"ASM\",\n",
    "      \"Expected ETA\": \"15:09\",\n",
    "      \"ID\": \"B01\",\n",
    "      \"Ship Targeted\": \"Ship A\",\n",
    "      \"Velocity\": 850\n",
    "    },\n",
    "    \"Title\": \"B01\",\n",
    "    \"Weapon\": \"Long Range\"\n",
    "  }\n",
    "}"
   ]
  },
  {
   "cell_type": "markdown",
   "id": "8c9061ef-2bd1-4e5b-b786-9c3df9e2d328",
   "metadata": {},
   "source": [
    "## API functions"
   ]
  },
  {
   "cell_type": "code",
   "execution_count": 10,
   "id": "4f4a0390-8c7e-4736-9a9c-1e1dd584d2ed",
   "metadata": {},
   "outputs": [],
   "source": [
    "def get_wargame() -> list[dict]:\n",
    "    response = requests.get(api_endpoint)\n",
    "    return response.json()[\"data\"]"
   ]
  },
  {
   "cell_type": "code",
   "execution_count": 11,
   "id": "69d2ee3c-073f-4d65-9c57-0cffaf39d9b8",
   "metadata": {},
   "outputs": [],
   "source": [
    "def get_wargame_last() -> list[dict]:\n",
    "    response = requests.get(f\"{api_endpoint}/last\")\n",
    "    return response.json()[\"data\"]"
   ]
  },
  {
   "cell_type": "code",
   "execution_count": 12,
   "id": "723bd1ba-5619-4cba-b816-1b112eee42b6",
   "metadata": {},
   "outputs": [],
   "source": [
    "def send_message(message: dict):\n",
    "    # remove _rev if present\n",
    "    if \"_rev\" in message:\n",
    "        del message[\"_rev\"]\n",
    "    # setting the message metadata\n",
    "    timestamp = datetime.now(UTC).isoformat()\n",
    "    message[\"details\"].update({\"timestamp\": timestamp})\n",
    "    if \"collaboration\" in message[\"details\"]:\n",
    "        # applies to WA messages only\n",
    "        message[\"details\"][\"collaboration\"][\"lastUpdated\"] = timestamp\n",
    "    message[\"details\"].update({\"turnNumber\": turn_number})\n",
    "    message[\"_id\"] = timestamp\n",
    "    \n",
    "    # posting the message to the game\n",
    "    response = requests.put(\n",
    "        api_endpoint, json.dumps(message), headers={\"Content-Type\": \"application/json\"}\n",
    "    )\n",
    "    if not response.ok:\n",
    "        print(response.status_code)\n",
    "        print(response.json())"
   ]
  },
  {
   "cell_type": "code",
   "execution_count": 13,
   "id": "bb1ed98e-5ec3-43e8-8fc0-9dd811473948",
   "metadata": {},
   "outputs": [],
   "source": [
    "def send_chat_message(text_msg: str):\n",
    "    msg_chat[\"message\"][\"content\"] = text_msg\n",
    "    send_message(msg_chat)"
   ]
  },
  {
   "cell_type": "code",
   "execution_count": 14,
   "id": "1b050cac-c323-4b77-8c75-b1b2714dd16d",
   "metadata": {},
   "outputs": [],
   "source": [
    "def send_ammo_update():\n",
    "    send_chat_message(\n",
    "        f\"Remaining ammunition at Turn {turn_number}: Alpha: {ammo_A_short} short range, {ammo_A_long} long range | Bravo: {ammo_B_short} short range, {ammo_B_long} long range\"\n",
    "    )"
   ]
  },
  {
   "cell_type": "code",
   "execution_count": 15,
   "id": "c333bc95-c63e-4014-9ac7-431fb4194640",
   "metadata": {},
   "outputs": [],
   "source": [
    "def send_threat_update(num_threat: int):\n",
    "    send_chat_message(\n",
    "        f\"{num_threat} detected inbound.\"\n",
    "    )"
   ]
  },
  {
   "cell_type": "code",
   "execution_count": 16,
   "id": "7a18bb7e-b28c-4ebd-beb7-10b6489abc62",
   "metadata": {},
   "outputs": [],
   "source": [
    "mapping_channel = {\n",
    "    1: targeting_channel_A,\n",
    "    2: targeting_channel_B,\n",
    "}\n",
    "mapping_ship = {\n",
    "    0: \"None\",\n",
    "    1: \"Ship A\",\n",
    "    2: \"Ship B\",\n",
    "}\n",
    "mapping_weapon = {\n",
    "    0: \"None\",\n",
    "    1: \"Short Range\",\n",
    "    2: \"Long Range\"\n",
    "}\n",
    "\n",
    "def send_WA_message(channel: int, threat_id: str, weapon_id: int, threat_type: str, eta_minute: int, velocity: int, target: int):\n",
    "    # threat_count += 1\n",
    "    # threat_id = f\"B{threat_count:02d}\"\n",
    "\n",
    "    content = msg_wa[\"message\"]\n",
    "    content[\"Title\"] = threat_id\n",
    "    content[\"Weapon\"] = mapping_weapon[weapon_id]\n",
    "\n",
    "    eta = (datetime.combine(date.today(), current_time) + timedelta(minutes=eta_minute)).time()\n",
    "    content[\"Threat\"] = {\n",
    "      \"Detected type\": threat_type,\n",
    "      \"Expected ETA\": eta.isoformat(\"minutes\"),\n",
    "      \"ID\": threat_id,\n",
    "      \"Ship Targeted\": mapping_ship[target],\n",
    "      \"Velocity\": velocity\n",
    "    }\n",
    "\n",
    "    # update the target channel\n",
    "    msg_wa[\"details\"][\"channel\"] = mapping_channel[channel]\n",
    "\n",
    "    send_message(msg_wa)\n"
   ]
  },
  {
   "cell_type": "markdown",
   "id": "cef3acf4-d59b-4059-99c0-69e2d4e7a4b2",
   "metadata": {},
   "source": [
    "## Game states"
   ]
  },
  {
   "cell_type": "code",
   "execution_count": 17,
   "id": "6463c1b8-a696-4a0c-aa52-cd36b959670e",
   "metadata": {},
   "outputs": [],
   "source": [
    "# Ammunition\n",
    "ammo_A_short = 16\n",
    "ammo_B_short = 16\n",
    "ammo_A_long = 8\n",
    "ammo_B_long = 8"
   ]
  },
  {
   "cell_type": "code",
   "execution_count": 21,
   "id": "b1e5bca7-1637-4e07-9397-cde7ac0dc318",
   "metadata": {},
   "outputs": [],
   "source": [
    "turn_number = 0\n",
    "current_time = time(hour=15, minute=0)  # TODO: to read from the game definition\n",
    "threat_count = 0"
   ]
  },
  {
   "cell_type": "code",
   "execution_count": 28,
   "id": "5219cd0c-5aae-4c67-a756-16c875c2bbd6",
   "metadata": {},
   "outputs": [],
   "source": [
    "def generate_threat():\n",
    "    threat_number = random.randint(1, 99)\n",
    "    threat_id = f\"B{threat_number:02d}\"\n",
    "    velocity = random.randint(500, 950)\n",
    "    eta_minutes = random.randint(1, 16)\n",
    "    weapon_id = 1 if eta_minutes < 5 else 2\n",
    "    channel = weapon_id\n",
    "    target_id = random.randint(0, 2)\n",
    "    if target_id == 0:\n",
    "        weapon_id == 0\n",
    "    return (channel, threat_id, weapon_id, \"Anti-ship missile\", eta_minutes, velocity, target_id)"
   ]
  },
  {
   "cell_type": "code",
   "execution_count": null,
   "id": "750b8b61-677e-4b86-aaf3-886003f01465",
   "metadata": {},
   "outputs": [],
   "source": []
  },
  {
   "cell_type": "code",
   "execution_count": 58,
   "id": "3c85546c-2190-4036-87eb-cda9ec461214",
   "metadata": {},
   "outputs": [],
   "source": [
    "def new_turn():\n",
    "    turn_number += 1\n",
    "    print(f\"The current turn is: {turn_number}\")"
   ]
  },
  {
   "cell_type": "code",
   "execution_count": 19,
   "id": "caa0fdcd-3c77-43dd-b689-604d9fd1e207",
   "metadata": {},
   "outputs": [],
   "source": [
    "# Ammunition\n",
    "ammo_A_short = 16\n",
    "ammo_B_short = 16\n",
    "ammo_A_long = 8\n",
    "ammo_B_long = 8"
   ]
  },
  {
   "cell_type": "markdown",
   "id": "22f2a18f-0676-4ebc-b416-b32cd50e7d13",
   "metadata": {},
   "source": [
    "## Turn 0"
   ]
  },
  {
   "cell_type": "code",
   "execution_count": 22,
   "id": "586b1f36-1c29-4a42-9707-e4a7393b4639",
   "metadata": {},
   "outputs": [],
   "source": [
    "# place two ships on the map\n",
    "send_message(msg_mapping_ships)"
   ]
  },
  {
   "cell_type": "code",
   "execution_count": null,
   "id": "68bbf4af-cc26-44b1-b295-14876d399289",
   "metadata": {},
   "outputs": [],
   "source": []
  },
  {
   "cell_type": "code",
   "execution_count": 23,
   "id": "b15af21e-b51e-481a-b73a-42160bd837a7",
   "metadata": {},
   "outputs": [],
   "source": [
    "# send ammo update\n",
    "send_ammo_update()"
   ]
  },
  {
   "cell_type": "code",
   "execution_count": 24,
   "id": "44399622-5f78-497c-a4df-016c1d36826c",
   "metadata": {},
   "outputs": [],
   "source": [
    "# Threats\n",
    "threats = [\n",
    "    # channel: int, threat_id: str, weapon_id: int, threat_type: str, eta_minute: int, velocity: int, target: int\n",
    "    (1, \"B01\", 2, \"Anti-ship missile\", 11, random.randint(500, 950), 1),\n",
    "    (2, \"B02\", 2, \"Anti-ship missile\", 9, random.randint(500, 950), 2),\n",
    "    (2, \"B03\", 1, \"Anti-ship missile\", 2, random.randint(500, 950), 2),\n",
    "    (2, \"B04\", 1, \"Anti-ship missile\", 4, random.randint(500, 950), 2),\n",
    "    (1, \"B05\", 2, \"Anti-ship missile\", 10, random.randint(500, 950), 1),\n",
    "]"
   ]
  },
  {
   "cell_type": "code",
   "execution_count": null,
   "id": "074bb620-11d3-4b20-a1bb-d7ec06aedf5a",
   "metadata": {},
   "outputs": [],
   "source": []
  },
  {
   "cell_type": "code",
   "execution_count": 24,
   "id": "a864a804-c00d-4138-86aa-0d8cdecc4ca0",
   "metadata": {},
   "outputs": [
    {
     "data": {
      "text/plain": [
       "1"
      ]
     },
     "execution_count": 24,
     "metadata": {},
     "output_type": "execute_result"
    }
   ],
   "source": [
    "num_threats = random.randint(1,5)\n",
    "num_threats"
   ]
  },
  {
   "cell_type": "code",
   "execution_count": 26,
   "id": "de4b1622-aa1c-4dc1-b9b7-f53aea995cc1",
   "metadata": {},
   "outputs": [],
   "source": [
    "send_threat_update(num_threats)"
   ]
  },
  {
   "cell_type": "code",
   "execution_count": 31,
   "id": "6bc6d836-d831-41d8-9b0a-13a130fe4eca",
   "metadata": {},
   "outputs": [],
   "source": [
    "for t in threats:\n",
    "    send_WA_message(*t)"
   ]
  },
  {
   "cell_type": "code",
   "execution_count": 29,
   "id": "5b419b42-5b60-4e1e-adba-fc72cdbf6790",
   "metadata": {},
   "outputs": [],
   "source": [
    "for _ in range(num_threats):\n",
    "    send_WA_message(*generate_threat())"
   ]
  },
  {
   "cell_type": "code",
   "execution_count": 60,
   "id": "4856378e-8265-4457-bac5-960c1e81ff1e",
   "metadata": {},
   "outputs": [],
   "source": [
    "turn_number += 1"
   ]
  },
  {
   "cell_type": "code",
   "execution_count": 30,
   "id": "bb2bd776-a554-4920-b4d5-7245a9af25c1",
   "metadata": {},
   "outputs": [],
   "source": [
    "send_WA_message(*generate_threat())"
   ]
  },
  {
   "cell_type": "code",
   "execution_count": 31,
   "id": "2e97f905-69a3-4bb1-8ace-1cc179c7803e",
   "metadata": {},
   "outputs": [],
   "source": [
    "send_WA_message(*generate_threat())"
   ]
  },
  {
   "cell_type": "code",
   "execution_count": 32,
   "id": "20c0013c-b621-41f1-a86f-1187271dddf4",
   "metadata": {},
   "outputs": [
    {
     "data": {
      "text/plain": [
       "(2, 'B65', 2, 'Anti-ship missile', 15, 650, 2)"
      ]
     },
     "execution_count": 32,
     "metadata": {},
     "output_type": "execute_result"
    }
   ],
   "source": [
    "generate_threat()"
   ]
  },
  {
   "cell_type": "code",
   "execution_count": 33,
   "id": "5a69daad-3394-4834-b7b1-a37cb23f54d7",
   "metadata": {},
   "outputs": [],
   "source": [
    "send_WA_message(1, 'B65', 2, 'Anti-ship missile', 15, 650, 1)"
   ]
  },
  {
   "cell_type": "code",
   "execution_count": null,
   "id": "fb7aa253-3d4c-46e6-a7eb-23d0b940b27b",
   "metadata": {},
   "outputs": [],
   "source": []
  }
 ],
 "metadata": {
  "kernelspec": {
   "display_name": "Python 3 (ipykernel)",
   "language": "python",
   "name": "python3"
  },
  "language_info": {
   "codemirror_mode": {
    "name": "ipython",
    "version": 3
   },
   "file_extension": ".py",
   "mimetype": "text/x-python",
   "name": "python",
   "nbconvert_exporter": "python",
   "pygments_lexer": "ipython3",
   "version": "3.12.3"
  }
 },
 "nbformat": 4,
 "nbformat_minor": 5
}
